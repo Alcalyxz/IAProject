{
  "nbformat": 4,
  "nbformat_minor": 0,
  "metadata": {
    "colab": {
      "name": "FinalProjectIAVENTANAPARZEN.ipynb",
      "provenance": [],
      "collapsed_sections": []
    },
    "kernelspec": {
      "display_name": "Python 3",
      "name": "python3"
    },
    "language_info": {
      "name": "python"
    }
  },
  "cells": [
    {
      "cell_type": "code",
      "metadata": {
        "colab": {
          "base_uri": "https://localhost:8080/"
        },
        "id": "5EoSovaj1dZK",
        "outputId": "1d500961-58ff-45b0-ebf4-1c71712d61cf"
      },
      "source": [
        "import pandas as pd\n",
        "import numpy as np\n",
        "from sklearn.preprocessing import StandardScaler\n",
        "\n",
        "scaler=StandardScaler()\n",
        "\n",
        "url = 'https://raw.githubusercontent.com/Alcalyxz/datasetProjectIA/main/Training-Dataset.csv'\n",
        "\n",
        "df = pd.read_csv(url)\n",
        "print(df.head(5))\n"
      ],
      "execution_count": 4,
      "outputs": [
        {
          "output_type": "stream",
          "name": "stdout",
          "text": [
            "   having_IP_Address  URL_Length  ...  Statistical_report  Result\n",
            "0                 -1           1  ...                  -1      -1\n",
            "1                  1           1  ...                   1      -1\n",
            "2                  1           0  ...                  -1      -1\n",
            "3                  1           0  ...                   1      -1\n",
            "4                  1           0  ...                   1       1\n",
            "\n",
            "[5 rows x 31 columns]\n"
          ]
        }
      ]
    },
    {
      "cell_type": "code",
      "metadata": {
        "id": "exRyfF8n2Cup"
      },
      "source": [
        "df = df.drop(['having_Sub_Domain'], axis=1)\n",
        "df = df.drop(['URL_of_Anchor'], axis=1)\n",
        "df = df.drop(['Links_in_tags'], axis=1)\n",
        "df = df.drop(['Redirect'], axis=1)\n",
        "df = df.drop(['web_traffic'], axis=1)\n",
        "df = df.drop(['Links_pointing_to_page'], axis=1)"
      ],
      "execution_count": 5,
      "outputs": []
    },
    {
      "cell_type": "code",
      "metadata": {
        "id": "SE8QODAu2F_B"
      },
      "source": [
        "df = df.drop(df[df['URL_Length']==0].index)\n",
        "df = df.drop(df[df['SSLfinal_State']==0].index)\n",
        "df = df.drop(df[df['SFH']==0].index)"
      ],
      "execution_count": 6,
      "outputs": []
    },
    {
      "cell_type": "code",
      "metadata": {
        "id": "5mBIiTeq2JF3"
      },
      "source": [
        "YEntrenamiento = df['Result']\n",
        "XEntrenamiento = scaler.fit_transform(df.drop(['Result'],axis=1))"
      ],
      "execution_count": 7,
      "outputs": []
    },
    {
      "cell_type": "code",
      "metadata": {
        "id": "d0rhDwgb2bIv"
      },
      "source": [
        "def ErrorClas(Y_lest, Y):\n",
        "    error = 1 - np.sum(Y_lest == Y)/len(Y)\n",
        "    return error"
      ],
      "execution_count": 8,
      "outputs": []
    },
    {
      "cell_type": "code",
      "metadata": {
        "id": "LNZDYqFm2ejZ"
      },
      "source": [
        "def KNN_Clasificacion(X_train, Y_train, X_test, k):\n",
        "    if k > X_train.shape[0]:\n",
        "        print(\"k no puede ser menor que las muestras de entrenamiento\")\n",
        "        return(None)\n",
        "    distancias = scipy.spatial.distance_matrix(X_test, X_train) ##Calculo la distancia de las dos matrices... mismos elementos\n",
        "    Yest = np.zeros(X_test.shape[0])\n",
        "    \n",
        "    for i in range (len(X_test)):\n",
        "        index_vecinos = np.argsort(distancias[i])[:k]  #con argsot la ordeno con los vecinos más cercanos, me retorna el índice de los menores.\n",
        "        k_vecinos = np.take(Y_train, index_vecinos)  ## Acá me traigo el valor de la matriz Yv, con el índice de los vecinos que obtuve arriba\n",
        "        Yest[i] = stats.mode(k_vecinos)[0]   ##Como la función directamente me dice que es de clasificación, entonces hago solo la moda.\n",
        "\n",
        "        \n",
        "    \n",
        "    return (Yest, distancias)"
      ],
      "execution_count": 9,
      "outputs": []
    },
    {
      "cell_type": "code",
      "metadata": {
        "id": "4vjeo8Yp2q3r"
      },
      "source": [
        "\n",
        "def train_test_split_fix(X,Y):\n",
        "    Xtrain, Xtest, Ytrain, Ytest = train_test_split(X,Y, train_size = 0.7, test_size = 0.3 )\n",
        "\n",
        "    return (Xtrain, Xtest, Ytrain, Ytest)"
      ],
      "execution_count": 10,
      "outputs": []
    },
    {
      "cell_type": "code",
      "metadata": {
        "id": "wroKP2xZ2tVo"
      },
      "source": [
        "\n",
        "from scipy.spatial import distance"
      ],
      "execution_count": 11,
      "outputs": []
    },
    {
      "cell_type": "code",
      "metadata": {
        "id": "jf6wjMzY2wp6"
      },
      "source": [
        "def kernel_gaussiano(x):\n",
        "    return np.exp((-0.5)*x**2)\n",
        "\n",
        "def ParzenWindow(x,Data,h):\n",
        "    h = h\n",
        "    Ns = Data.shape[0]\n",
        "    suma = 0\n",
        "    for k in range(Ns):\n",
        "        u = distance.euclidean(x,Data[k,:])\n",
        "        suma += kernel_gaussiano(u/h)\n",
        "    return suma"
      ],
      "execution_count": 12,
      "outputs": []
    },
    {
      "cell_type": "code",
      "metadata": {
        "id": "vUkzRXlA23mD"
      },
      "source": [
        "\n",
        "def parzenClass(X_train, Y_train, X_test, h):\n",
        "        \n",
        "    Yest = np.zeros(X_test.shape[0])\n",
        "    clases = np.unique(Y_train)\n",
        "    fds_matrix = np.zeros((X_test.shape[0], len(clases)))\n",
        "    \n",
        "    index = 0\n",
        "    for n, sample in enumerate (X_test):\n",
        "      max_prob = 0\n",
        "      est_label = None\n",
        "      j = 0\n",
        "      for label in clases:\n",
        "        indixes = np.argwhere(Y_train == label)\n",
        "        train_elements = np.take(X_train, indixes.T[0], axis = 0)\n",
        "        dim = train_elements.shape\n",
        "        prob = ParzenWindow(sample,train_elements,h)/dim[0]\n",
        "        fds_matrix[index][j] = prob\n",
        "        if prob > max_prob:\n",
        "          max_prob = prob\n",
        "          est_label = label\n",
        "        j += 1\n",
        "      Yest[index] = est_label\n",
        "      index +=1\n",
        "    \n",
        "    return Yest, fds_matrix"
      ],
      "execution_count": 13,
      "outputs": []
    },
    {
      "cell_type": "code",
      "metadata": {
        "id": "ViNS5uz828qa"
      },
      "source": [
        "from sklearn.model_selection import StratifiedKFold\n",
        "\n",
        "def experimentarParzen (X, Y, hs):\n",
        "    \n",
        "    skf = StratifiedKFold(n_splits=4)\n",
        "    resultados = pd.DataFrame()\n",
        "    idx = 0\n",
        "    for h in hs:\n",
        "        # lista para almacenar los errores de cada iteración\n",
        "        # de la validación\n",
        "        error_temp = []\n",
        "        \n",
        "        \n",
        "        for train, test in skf.split(X, Y):\n",
        "\n",
        "            Xtrain = X[train,:]\n",
        "            Ytrain = Y[train]\n",
        "            Xtest = X[test,:]\n",
        "            Ytest = Y[test]\n",
        "            #normalizamos los datos\n",
        "            scaler = StandardScaler()\n",
        "            scaler.fit(Xtrain)\n",
        "            Xtrain = scaler.transform(Xtrain)\n",
        "            Xtest = scaler.transform(Xtest)\n",
        "            \n",
        "            Yest, probabilidades = parzenClass(Xtrain, Ytrain, Xtest, h)\n",
        "            errorTest = ErrorClas(Yest, Ytest)\n",
        "            error_temp.append(errorTest)\n",
        "    \n",
        "        resultados.loc[idx,'ancho de ventana'] = h \n",
        "        resultados.loc[idx,'error de prueba(media)'] = errorTest.mean()\n",
        "        resultados.loc[idx,'error de prueba(desviación estandar)'] = errorTest.std()\n",
        "        idx+=1\n",
        "    return (resultados)"
      ],
      "execution_count": 14,
      "outputs": []
    },
    {
      "cell_type": "code",
      "metadata": {
        "id": "fD64ZM833CeS"
      },
      "source": [
        "YEntrenamiento = np.array(YEntrenamiento)\n",
        "YEntrenamiento = YEntrenamiento.astype(int)\n"
      ],
      "execution_count": 15,
      "outputs": []
    },
    {
      "cell_type": "code",
      "metadata": {
        "colab": {
          "base_uri": "https://localhost:8080/",
          "height": 266
        },
        "id": "tuKNbcCl3IGj",
        "outputId": "014fae6e-8a27-490e-9ded-634ce90f263c"
      },
      "source": [
        "hs = [0.05, 0.02, 0.001, 0.001, 2, 5, 10]\n",
        "experimentos_parzen = experimentarParzen(XEntrenamiento,YEntrenamiento, hs)\n",
        "experimentos_parzen"
      ],
      "execution_count": null,
      "outputs": [
        {
          "output_type": "execute_result",
          "data": {
            "text/html": [
              "<div>\n",
              "<style scoped>\n",
              "    .dataframe tbody tr th:only-of-type {\n",
              "        vertical-align: middle;\n",
              "    }\n",
              "\n",
              "    .dataframe tbody tr th {\n",
              "        vertical-align: top;\n",
              "    }\n",
              "\n",
              "    .dataframe thead th {\n",
              "        text-align: right;\n",
              "    }\n",
              "</style>\n",
              "<table border=\"1\" class=\"dataframe\">\n",
              "  <thead>\n",
              "    <tr style=\"text-align: right;\">\n",
              "      <th></th>\n",
              "      <th>ancho de ventana</th>\n",
              "      <th>error de prueba(media)</th>\n",
              "      <th>error de prueba(desviación estandar)</th>\n",
              "    </tr>\n",
              "  </thead>\n",
              "  <tbody>\n",
              "    <tr>\n",
              "      <th>0</th>\n",
              "      <td>0.050</td>\n",
              "      <td>0.620053</td>\n",
              "      <td>0.0</td>\n",
              "    </tr>\n",
              "    <tr>\n",
              "      <th>1</th>\n",
              "      <td>0.020</td>\n",
              "      <td>0.620053</td>\n",
              "      <td>0.0</td>\n",
              "    </tr>\n",
              "    <tr>\n",
              "      <th>2</th>\n",
              "      <td>0.001</td>\n",
              "      <td>0.620053</td>\n",
              "      <td>0.0</td>\n",
              "    </tr>\n",
              "    <tr>\n",
              "      <th>3</th>\n",
              "      <td>0.001</td>\n",
              "      <td>0.620053</td>\n",
              "      <td>0.0</td>\n",
              "    </tr>\n",
              "    <tr>\n",
              "      <th>4</th>\n",
              "      <td>2.000</td>\n",
              "      <td>0.127089</td>\n",
              "      <td>0.0</td>\n",
              "    </tr>\n",
              "    <tr>\n",
              "      <th>5</th>\n",
              "      <td>5.000</td>\n",
              "      <td>0.149956</td>\n",
              "      <td>0.0</td>\n",
              "    </tr>\n",
              "    <tr>\n",
              "      <th>6</th>\n",
              "      <td>10.000</td>\n",
              "      <td>0.148637</td>\n",
              "      <td>0.0</td>\n",
              "    </tr>\n",
              "  </tbody>\n",
              "</table>\n",
              "</div>"
            ],
            "text/plain": [
              "   ancho de ventana  ...  error de prueba(desviación estandar)\n",
              "0             0.050  ...                                   0.0\n",
              "1             0.020  ...                                   0.0\n",
              "2             0.001  ...                                   0.0\n",
              "3             0.001  ...                                   0.0\n",
              "4             2.000  ...                                   0.0\n",
              "5             5.000  ...                                   0.0\n",
              "6            10.000  ...                                   0.0\n",
              "\n",
              "[7 rows x 3 columns]"
            ]
          },
          "metadata": {},
          "execution_count": 13
        }
      ]
    }
  ]
}
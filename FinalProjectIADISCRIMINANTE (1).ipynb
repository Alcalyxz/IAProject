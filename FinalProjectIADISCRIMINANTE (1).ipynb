{
  "nbformat": 4,
  "nbformat_minor": 0,
  "metadata": {
    "colab": {
      "name": "FinalProjectIADISCRIMINANTE.ipynb",
      "provenance": [],
      "collapsed_sections": []
    },
    "kernelspec": {
      "name": "python3",
      "display_name": "Python 3"
    },
    "language_info": {
      "name": "python"
    }
  },
  "cells": [
    {
      "cell_type": "code",
      "metadata": {
        "colab": {
          "base_uri": "https://localhost:8080/"
        },
        "id": "5EoSovaj1dZK",
        "outputId": "cb5c42e6-4a0d-4183-89f4-b2db996947c9"
      },
      "source": [
        "import pandas as pd\n",
        "from scipy.io import loadmat\n",
        "import numpy as np\n",
        "from sklearn.preprocessing import StandardScaler\n",
        "\n",
        "scaler=StandardScaler()\n",
        "\n",
        "url = 'https://raw.githubusercontent.com/Alcalyxz/datasetProjectIA/main/Training-Dataset.csv'\n",
        "\n",
        "df = pd.read_csv(url)\n",
        "print(df.head(5))\n"
      ],
      "execution_count": null,
      "outputs": [
        {
          "output_type": "stream",
          "name": "stdout",
          "text": [
            "   having_IP_Address  URL_Length  ...  Statistical_report  Result\n",
            "0                 -1           1  ...                  -1      -1\n",
            "1                  1           1  ...                   1      -1\n",
            "2                  1           0  ...                  -1      -1\n",
            "3                  1           0  ...                   1      -1\n",
            "4                  1           0  ...                   1       1\n",
            "\n",
            "[5 rows x 31 columns]\n"
          ]
        }
      ]
    },
    {
      "cell_type": "code",
      "metadata": {
        "id": "IhOW3-RL47-x"
      },
      "source": [
        "df = df.drop(['having_Sub_Domain'], axis=1)\n",
        "df = df.drop(['URL_of_Anchor'], axis=1)\n",
        "df = df.drop(['Links_in_tags'], axis=1)\n",
        "df = df.drop(['Redirect'], axis=1)\n",
        "df = df.drop(['web_traffic'], axis=1)\n",
        "df = df.drop(['Links_pointing_to_page'], axis=1)\n",
        "\n",
        "##Debido a la alta correlaciòn (0.95) con PopUpWindow se elimina una de las dos ya que le aportan\n",
        "##La misma informaciòn al sistema \n",
        "df = df.drop(['Favicon'], axis=1)"
      ],
      "execution_count": null,
      "outputs": []
    },
    {
      "cell_type": "code",
      "metadata": {
        "id": "5dl8azMV48jZ"
      },
      "source": [
        "df = df.drop(df[df['URL_Length']==0].index)\n",
        "df = df.drop(df[df['SSLfinal_State']==0].index)\n",
        "df = df.drop(df[df['SFH']==0].index)"
      ],
      "execution_count": null,
      "outputs": []
    },
    {
      "cell_type": "code",
      "metadata": {
        "id": "fYhZDDVQ6txf"
      },
      "source": [
        "df.reset_index(drop=True, inplace=True)"
      ],
      "execution_count": null,
      "outputs": []
    },
    {
      "cell_type": "code",
      "metadata": {
        "id": "jQ3ccWAR9qpz"
      },
      "source": [
        "df = df.replace({-1: 0})"
      ],
      "execution_count": null,
      "outputs": []
    },
    {
      "cell_type": "code",
      "metadata": {
        "id": "yiXIcIkz5Aj5"
      },
      "source": [
        "YEntrenamiento = df['Result']\n",
        "XEntrenamiento = scaler.fit_transform(df.drop(['Result'],axis=1))"
      ],
      "execution_count": null,
      "outputs": []
    },
    {
      "cell_type": "code",
      "metadata": {
        "colab": {
          "base_uri": "https://localhost:8080/"
        },
        "id": "IWhciXsn5IJt",
        "outputId": "ef4ea45e-959b-422a-c3c0-44af7b250a3c"
      },
      "source": [
        "!pip install scikit-plot"
      ],
      "execution_count": null,
      "outputs": [
        {
          "output_type": "stream",
          "name": "stdout",
          "text": [
            "Requirement already satisfied: scikit-plot in /usr/local/lib/python3.7/dist-packages (0.3.7)\n",
            "Requirement already satisfied: scipy>=0.9 in /usr/local/lib/python3.7/dist-packages (from scikit-plot) (1.4.1)\n",
            "Requirement already satisfied: scikit-learn>=0.18 in /usr/local/lib/python3.7/dist-packages (from scikit-plot) (0.22.2.post1)\n",
            "Requirement already satisfied: matplotlib>=1.4.0 in /usr/local/lib/python3.7/dist-packages (from scikit-plot) (3.2.2)\n",
            "Requirement already satisfied: joblib>=0.10 in /usr/local/lib/python3.7/dist-packages (from scikit-plot) (1.0.1)\n",
            "Requirement already satisfied: cycler>=0.10 in /usr/local/lib/python3.7/dist-packages (from matplotlib>=1.4.0->scikit-plot) (0.10.0)\n",
            "Requirement already satisfied: pyparsing!=2.0.4,!=2.1.2,!=2.1.6,>=2.0.1 in /usr/local/lib/python3.7/dist-packages (from matplotlib>=1.4.0->scikit-plot) (2.4.7)\n",
            "Requirement already satisfied: kiwisolver>=1.0.1 in /usr/local/lib/python3.7/dist-packages (from matplotlib>=1.4.0->scikit-plot) (1.3.2)\n",
            "Requirement already satisfied: numpy>=1.11 in /usr/local/lib/python3.7/dist-packages (from matplotlib>=1.4.0->scikit-plot) (1.19.5)\n",
            "Requirement already satisfied: python-dateutil>=2.1 in /usr/local/lib/python3.7/dist-packages (from matplotlib>=1.4.0->scikit-plot) (2.8.2)\n",
            "Requirement already satisfied: six in /usr/local/lib/python3.7/dist-packages (from cycler>=0.10->matplotlib>=1.4.0->scikit-plot) (1.15.0)\n"
          ]
        }
      ]
    },
    {
      "cell_type": "code",
      "metadata": {
        "id": "NWf89xyH5Lht"
      },
      "source": [
        "from sklearn.metrics import balanced_accuracy_score\n",
        "from sklearn.metrics import roc_auc_score\n",
        "import scikitplot as skplt \n",
        "from sklearn.metrics import classification_report\n",
        "from imblearn.over_sampling import SMOTE \n",
        "from sklearn.model_selection import StratifiedKFold\n",
        "from sklearn.discriminant_analysis import QuadraticDiscriminantAnalysis"
      ],
      "execution_count": null,
      "outputs": []
    },
    {
      "cell_type": "code",
      "metadata": {
        "id": "ulw0MCww5PCt"
      },
      "source": [
        "def experimentar(X,Y,oversampling=False):\n",
        "    Folds = 10\n",
        "    skf = StratifiedKFold(n_splits=Folds)\n",
        "    resultados = pd.DataFrame()\n",
        "    idx = 0\n",
        "    Acc = []\n",
        "    Auc= []\n",
        "\n",
        "    for j, (train, test) in enumerate(skf.split(X, Y)):\n",
        "        Xtrain= X[train,:]\n",
        "        Ytrain = Y[train]\n",
        "        Xtest = X[test, :]\n",
        "        Ytest = Y[test]\n",
        "        scaler = StandardScaler().fit(X= Xtrain)       \n",
        "        Xtrain = scaler.transform(Xtrain)\n",
        "        Xtest = scaler.transform(Xtest)\n",
        "        model = QuadraticDiscriminantAnalysis(priors=None, reg_param=0.3, store_covariance=True,\n",
        "                              tol=0.01)\n",
        "        if oversampling:\n",
        "            sm = SMOTE(random_state=42)\n",
        "            Xtrain, Ytrain = sm.fit_resample(Xtrain, Ytrain)\n",
        "            \n",
        "        model.fit(X=Xtrain, y=Ytrain)\n",
        "        Yest = model.predict_proba(Xtest)\n",
        "        \n",
        "        Acc.append(balanced_accuracy_score(Ytest,np.argmax(Yest, 1)))\n",
        "        aux=roc_auc_score(Ytest,Yest[:,1])\n",
        "        Auc.append(aux)\n",
        "    skplt.metrics.plot_confusion_matrix(Ytest,np.argmax(Yest, 1),normalize=True) #matriz de confusión\n",
        "    skplt.metrics.plot_roc(Ytest,Yest)\n",
        "    print(classification_report(Ytest,np.argmax(Yest, 1)))\n",
        "    \n",
        "    resultados.loc[idx,'AUC medio'] = np.mean(Auc)\n",
        "    resultados.loc[idx,'AUC intervalo de confianza'] = np.std(Auc)\n",
        "    resultados.loc[idx,'Accuracy medio'] = np.mean(Acc)\n",
        "    resultados.loc[idx,'Accuracy intervalo de confianza'] = np.std(Acc)\n",
        "    return (resultados)"
      ],
      "execution_count": null,
      "outputs": []
    },
    {
      "cell_type": "code",
      "metadata": {
        "colab": {
          "base_uri": "https://localhost:8080/",
          "height": 1000
        },
        "id": "ivSIeuIa5UD0",
        "outputId": "1ac65fc5-5869-4d4f-9d94-834069178126"
      },
      "source": [
        "experimentar(XEntrenamiento,YEntrenamiento,False)"
      ],
      "execution_count": null,
      "outputs": [
        {
          "output_type": "stream",
          "name": "stderr",
          "text": [
            "/usr/local/lib/python3.7/dist-packages/sklearn/discriminant_analysis.py:691: UserWarning: Variables are collinear\n",
            "  warnings.warn(\"Variables are collinear\")\n",
            "/usr/local/lib/python3.7/dist-packages/sklearn/discriminant_analysis.py:691: UserWarning: Variables are collinear\n",
            "  warnings.warn(\"Variables are collinear\")\n",
            "/usr/local/lib/python3.7/dist-packages/sklearn/discriminant_analysis.py:691: UserWarning: Variables are collinear\n",
            "  warnings.warn(\"Variables are collinear\")\n",
            "/usr/local/lib/python3.7/dist-packages/sklearn/discriminant_analysis.py:691: UserWarning: Variables are collinear\n",
            "  warnings.warn(\"Variables are collinear\")\n",
            "/usr/local/lib/python3.7/dist-packages/sklearn/discriminant_analysis.py:691: UserWarning: Variables are collinear\n",
            "  warnings.warn(\"Variables are collinear\")\n",
            "/usr/local/lib/python3.7/dist-packages/sklearn/discriminant_analysis.py:691: UserWarning: Variables are collinear\n",
            "  warnings.warn(\"Variables are collinear\")\n",
            "/usr/local/lib/python3.7/dist-packages/sklearn/discriminant_analysis.py:691: UserWarning: Variables are collinear\n",
            "  warnings.warn(\"Variables are collinear\")\n",
            "/usr/local/lib/python3.7/dist-packages/sklearn/discriminant_analysis.py:691: UserWarning: Variables are collinear\n",
            "  warnings.warn(\"Variables are collinear\")\n"
          ]
        },
        {
          "output_type": "stream",
          "name": "stdout",
          "text": [
            "              precision    recall  f1-score   support\n",
            "\n",
            "           0       0.84      0.88      0.86       349\n",
            "           1       0.92      0.90      0.91       560\n",
            "\n",
            "    accuracy                           0.89       909\n",
            "   macro avg       0.88      0.89      0.88       909\n",
            "weighted avg       0.89      0.89      0.89       909\n",
            "\n"
          ]
        },
        {
          "output_type": "stream",
          "name": "stderr",
          "text": [
            "/usr/local/lib/python3.7/dist-packages/sklearn/discriminant_analysis.py:691: UserWarning: Variables are collinear\n",
            "  warnings.warn(\"Variables are collinear\")\n",
            "/usr/local/lib/python3.7/dist-packages/sklearn/discriminant_analysis.py:691: UserWarning: Variables are collinear\n",
            "  warnings.warn(\"Variables are collinear\")\n"
          ]
        },
        {
          "output_type": "execute_result",
          "data": {
            "text/html": [
              "<div>\n",
              "<style scoped>\n",
              "    .dataframe tbody tr th:only-of-type {\n",
              "        vertical-align: middle;\n",
              "    }\n",
              "\n",
              "    .dataframe tbody tr th {\n",
              "        vertical-align: top;\n",
              "    }\n",
              "\n",
              "    .dataframe thead th {\n",
              "        text-align: right;\n",
              "    }\n",
              "</style>\n",
              "<table border=\"1\" class=\"dataframe\">\n",
              "  <thead>\n",
              "    <tr style=\"text-align: right;\">\n",
              "      <th></th>\n",
              "      <th>AUC medio</th>\n",
              "      <th>AUC intervalo de confianza</th>\n",
              "      <th>Accuracy medio</th>\n",
              "      <th>Accuracy intervalo de confianza</th>\n",
              "    </tr>\n",
              "  </thead>\n",
              "  <tbody>\n",
              "    <tr>\n",
              "      <th>0</th>\n",
              "      <td>0.948217</td>\n",
              "      <td>0.007844</td>\n",
              "      <td>0.882741</td>\n",
              "      <td>0.01093</td>\n",
              "    </tr>\n",
              "  </tbody>\n",
              "</table>\n",
              "</div>"
            ],
            "text/plain": [
              "   AUC medio  ...  Accuracy intervalo de confianza\n",
              "0   0.948217  ...                          0.01093\n",
              "\n",
              "[1 rows x 4 columns]"
            ]
          },
          "metadata": {},
          "execution_count": 30
        },
        {
          "output_type": "display_data",
          "data": {
            "image/png": "[encoded data removed]",
            "text/plain": [
              "<Figure size 432x288 with 2 Axes>"
            ]
          },
          "metadata": {
            "needs_background": "light"
          }
        },
        {
          "output_type": "display_data",
          "data": {
            "image/png": "[encoded data removed]",
            "text/plain": [
              "<Figure size 432x288 with 1 Axes>"
            ]
          },
          "metadata": {
            "needs_background": "light"
          }
        }
      ]
    }
  ]
}
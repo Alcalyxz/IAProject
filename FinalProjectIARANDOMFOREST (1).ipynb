{
  "nbformat": 4,
  "nbformat_minor": 0,
  "metadata": {
    "colab": {
      "name": "FinalProjectIARANDOMFOREST.ipynb",
      "provenance": [],
      "collapsed_sections": []
    },
    "kernelspec": {
      "name": "python3",
      "display_name": "Python 3"
    },
    "language_info": {
      "name": "python"
    }
  },
  "cells": [
    {
      "cell_type": "code",
      "metadata": {
        "colab": {
          "base_uri": "https://localhost:8080/"
        },
        "id": "NAFzue1es5-J",
        "outputId": "1b7f70b6-3cf5-46d4-90bc-84e257e5f941"
      },
      "source": [
        "import pandas as pd\n",
        "import numpy as np\n",
        "from sklearn.preprocessing import StandardScaler\n",
        "\n",
        "scaler=StandardScaler()\n",
        "\n",
        "url = 'https://raw.githubusercontent.com/Alcalyxz/datasetProjectIA/main/Training-Dataset.csv'\n",
        "\n",
        "df = pd.read_csv(url)\n",
        "print(df.head(5))\n"
      ],
      "execution_count": 1,
      "outputs": [
        {
          "output_type": "stream",
          "name": "stdout",
          "text": [
            "   having_IP_Address  URL_Length  ...  Statistical_report  Result\n",
            "0                 -1           1  ...                  -1      -1\n",
            "1                  1           1  ...                   1      -1\n",
            "2                  1           0  ...                  -1      -1\n",
            "3                  1           0  ...                   1      -1\n",
            "4                  1           0  ...                   1       1\n",
            "\n",
            "[5 rows x 31 columns]\n"
          ]
        }
      ]
    },
    {
      "cell_type": "code",
      "metadata": {
        "id": "JSMJ-pkys9_f"
      },
      "source": [
        "df = df.drop(['having_Sub_Domain'], axis=1)\n",
        "df = df.drop(['URL_of_Anchor'], axis=1)\n",
        "df = df.drop(['Links_in_tags'], axis=1)\n",
        "df = df.drop(['Redirect'], axis=1)\n",
        "df = df.drop(['web_traffic'], axis=1)\n",
        "df = df.drop(['Links_pointing_to_page'], axis=1)\n",
        "\n",
        "##Debido a la alta correlaciòn (0.95) con PopUpWindow se elimina una de las dos ya que le aportan\n",
        "##La misma informaciòn al sistema \n",
        "df = df.drop(['Favicon'], axis=1)"
      ],
      "execution_count": 2,
      "outputs": []
    },
    {
      "cell_type": "code",
      "metadata": {
        "colab": {
          "base_uri": "https://localhost:8080/"
        },
        "id": "ZZku12pNjimk",
        "outputId": "8456deb7-1e7b-4607-fe4c-552df43cfaee"
      },
      "source": [
        "!pip install scikit-plot"
      ],
      "execution_count": 3,
      "outputs": [
        {
          "output_type": "stream",
          "name": "stdout",
          "text": [
            "Collecting scikit-plot\n",
            "  Downloading scikit_plot-0.3.7-py3-none-any.whl (33 kB)\n",
            "Requirement already satisfied: matplotlib>=1.4.0 in /usr/local/lib/python3.7/dist-packages (from scikit-plot) (3.2.2)\n",
            "Requirement already satisfied: scipy>=0.9 in /usr/local/lib/python3.7/dist-packages (from scikit-plot) (1.4.1)\n",
            "Requirement already satisfied: joblib>=0.10 in /usr/local/lib/python3.7/dist-packages (from scikit-plot) (1.0.1)\n",
            "Requirement already satisfied: scikit-learn>=0.18 in /usr/local/lib/python3.7/dist-packages (from scikit-plot) (0.22.2.post1)\n",
            "Requirement already satisfied: numpy>=1.11 in /usr/local/lib/python3.7/dist-packages (from matplotlib>=1.4.0->scikit-plot) (1.19.5)\n",
            "Requirement already satisfied: python-dateutil>=2.1 in /usr/local/lib/python3.7/dist-packages (from matplotlib>=1.4.0->scikit-plot) (2.8.2)\n",
            "Requirement already satisfied: kiwisolver>=1.0.1 in /usr/local/lib/python3.7/dist-packages (from matplotlib>=1.4.0->scikit-plot) (1.3.2)\n",
            "Requirement already satisfied: pyparsing!=2.0.4,!=2.1.2,!=2.1.6,>=2.0.1 in /usr/local/lib/python3.7/dist-packages (from matplotlib>=1.4.0->scikit-plot) (2.4.7)\n",
            "Requirement already satisfied: cycler>=0.10 in /usr/local/lib/python3.7/dist-packages (from matplotlib>=1.4.0->scikit-plot) (0.10.0)\n",
            "Requirement already satisfied: six in /usr/local/lib/python3.7/dist-packages (from cycler>=0.10->matplotlib>=1.4.0->scikit-plot) (1.15.0)\n",
            "Installing collected packages: scikit-plot\n",
            "Successfully installed scikit-plot-0.3.7\n"
          ]
        }
      ]
    },
    {
      "cell_type": "code",
      "metadata": {
        "id": "R9J6qZCVtA0C"
      },
      "source": [
        "df = df.drop(df[df['URL_Length']==0].index)\n",
        "df = df.drop(df[df['SSLfinal_State']==0].index)\n",
        "df = df.drop(df[df['SFH']==0].index)"
      ],
      "execution_count": 4,
      "outputs": []
    },
    {
      "cell_type": "code",
      "metadata": {
        "id": "mQ7R0-eTtDin"
      },
      "source": [
        "df.reset_index(drop=True, inplace=True)"
      ],
      "execution_count": 5,
      "outputs": []
    },
    {
      "cell_type": "code",
      "metadata": {
        "id": "0sUKGlEVtGqh"
      },
      "source": [
        "##df = df.replace({-1: 0})"
      ],
      "execution_count": 75,
      "outputs": []
    },
    {
      "cell_type": "code",
      "metadata": {
        "id": "m1KILkuitJW8"
      },
      "source": [
        "YEntrenamiento = df['Result']\n",
        "XEntrenamiento = scaler.fit_transform(df.drop(['Result'],axis=1))"
      ],
      "execution_count": 6,
      "outputs": []
    },
    {
      "cell_type": "code",
      "metadata": {
        "id": "dzZdSohNvQEO"
      },
      "source": [
        "from sklearn.model_selection import StratifiedKFold\n",
        "from sklearn.ensemble import GradientBoostingClassifier\n",
        "import scikitplot as skplt \n"
      ],
      "execution_count": 7,
      "outputs": []
    },
    {
      "cell_type": "code",
      "metadata": {
        "colab": {
          "base_uri": "https://localhost:8080/"
        },
        "id": "YFCuWWt1noCb",
        "outputId": "7dd1565a-3055-420f-86a0-57b3a49fbfa5"
      },
      "source": [
        "from sklearn.metrics import balanced_accuracy_score\n",
        "from sklearn.metrics import roc_auc_score\n",
        "import scikitplot as skplt \n",
        "from sklearn.metrics import classification_report\n",
        "from imblearn.over_sampling import SMOTE \n",
        "from sklearn.model_selection import StratifiedKFold\n",
        "from sklearn.discriminant_analysis import QuadraticDiscriminantAnalysis"
      ],
      "execution_count": 8,
      "outputs": [
        {
          "output_type": "stream",
          "name": "stderr",
          "text": [
            "/usr/local/lib/python3.7/dist-packages/sklearn/externals/six.py:31: FutureWarning: The module is deprecated in version 0.21 and will be removed in version 0.23 since we've dropped support for Python 2.7. Please rely on the official version of six (https://pypi.org/project/six/).\n",
            "  \"(https://pypi.org/project/six/).\", FutureWarning)\n",
            "/usr/local/lib/python3.7/dist-packages/sklearn/utils/deprecation.py:144: FutureWarning: The sklearn.neighbors.base module is  deprecated in version 0.22 and will be removed in version 0.24. The corresponding classes / functions should instead be imported from sklearn.neighbors. Anything that cannot be imported from sklearn.neighbors is now part of the private API.\n",
            "  warnings.warn(message, FutureWarning)\n"
          ]
        }
      ]
    },
    {
      "cell_type": "code",
      "metadata": {
        "id": "uAR7lxIPvqj2"
      },
      "source": [
        "def experimentar_gbt(num_trees, X, Y):\n",
        "    folds = 4\n",
        "    skf = StratifiedKFold(n_splits=folds)\n",
        "    resultados = pd.DataFrame()\n",
        "    idx = 0\n",
        "    for trees in num_trees:\n",
        "        ## para almacenar los errores intermedios\n",
        "        EficienciaTrain = []\n",
        "        EficienciaVal = []\n",
        "        for train, test in skf.split(X, Y):\n",
        "            Xtrain = X[train,:]\n",
        "            Ytrain = Y[train]\n",
        "            Xtest = X[test,:]\n",
        "            Ytest = Y[test]\n",
        "            #Haga el llamado a la función para crear y entrenar el modelo usando los datos de entrenamiento\n",
        "            modelo= GradientBoostingClassifier(n_estimators= trees)\n",
        "            modelo.fit(Xtrain, Ytrain)\n",
        "            #predecir muestras de entrenamiento\n",
        "            Ytrain_pred =  modelo.predict(Xtrain)\n",
        "            #predecir muestras de pruebas\n",
        "            Yest = modelo.predict(Xtest)\n",
        "            #Evaluamos las predicciones del modelo con los datos de test\n",
        "            EficienciaTrain.append(np.mean(Ytrain_pred.ravel() == Ytrain.ravel()))\n",
        "            EficienciaVal.append(np.mean(Yest.ravel() == Ytest.ravel()))\n",
        "\n",
        "        resultados.loc[idx,'número de arboles'] = trees\n",
        "        resultados.loc[idx,'Accuracy de entrenamiento'] = np.mean(EficienciaTrain)\n",
        "        resultados.loc[idx,'desviacion estandar entrenamiento'] = np.std(EficienciaTrain)\n",
        "        resultados.loc[idx,'Accuracy de prueba'] = np.mean(EficienciaVal)\n",
        "        resultados.loc[idx,'desviacion estandar prueba'] = np.std(EficienciaVal)\n",
        "        idx= idx +1\n",
        "        \n",
        "    return (resultados)"
      ],
      "execution_count": 9,
      "outputs": []
    },
    {
      "cell_type": "code",
      "metadata": {
        "colab": {
          "base_uri": "https://localhost:8080/",
          "height": 266
        },
        "id": "GiYuOnyKvtH2",
        "outputId": "5e51be91-be9a-4a7f-abf2-81db3c0ba8fb"
      },
      "source": [
        "arboles = [5,10,20,50,100, 150,1000]\n",
        "resultados_gbt = experimentar_gbt(arboles, XEntrenamiento, YEntrenamiento)\n",
        "resultados_gbt"
      ],
      "execution_count": 10,
      "outputs": [
        {
          "output_type": "execute_result",
          "data": {
            "text/html": [
              "<div>\n",
              "<style scoped>\n",
              "    .dataframe tbody tr th:only-of-type {\n",
              "        vertical-align: middle;\n",
              "    }\n",
              "\n",
              "    .dataframe tbody tr th {\n",
              "        vertical-align: top;\n",
              "    }\n",
              "\n",
              "    .dataframe thead th {\n",
              "        text-align: right;\n",
              "    }\n",
              "</style>\n",
              "<table border=\"1\" class=\"dataframe\">\n",
              "  <thead>\n",
              "    <tr style=\"text-align: right;\">\n",
              "      <th></th>\n",
              "      <th>número de arboles</th>\n",
              "      <th>Accuracy de entrenamiento</th>\n",
              "      <th>desviacion estandar entrenamiento</th>\n",
              "      <th>Accuracy de prueba</th>\n",
              "      <th>desviacion estandar prueba</th>\n",
              "    </tr>\n",
              "  </thead>\n",
              "  <tbody>\n",
              "    <tr>\n",
              "      <th>0</th>\n",
              "      <td>5.0</td>\n",
              "      <td>0.885482</td>\n",
              "      <td>0.002460</td>\n",
              "      <td>0.885482</td>\n",
              "      <td>0.007378</td>\n",
              "    </tr>\n",
              "    <tr>\n",
              "      <th>1</th>\n",
              "      <td>10.0</td>\n",
              "      <td>0.885482</td>\n",
              "      <td>0.002460</td>\n",
              "      <td>0.885482</td>\n",
              "      <td>0.007378</td>\n",
              "    </tr>\n",
              "    <tr>\n",
              "      <th>2</th>\n",
              "      <td>20.0</td>\n",
              "      <td>0.885482</td>\n",
              "      <td>0.002460</td>\n",
              "      <td>0.885482</td>\n",
              "      <td>0.007378</td>\n",
              "    </tr>\n",
              "    <tr>\n",
              "      <th>3</th>\n",
              "      <td>50.0</td>\n",
              "      <td>0.889988</td>\n",
              "      <td>0.001918</td>\n",
              "      <td>0.886031</td>\n",
              "      <td>0.007063</td>\n",
              "    </tr>\n",
              "    <tr>\n",
              "      <th>4</th>\n",
              "      <td>100.0</td>\n",
              "      <td>0.897718</td>\n",
              "      <td>0.001500</td>\n",
              "      <td>0.885041</td>\n",
              "      <td>0.008094</td>\n",
              "    </tr>\n",
              "    <tr>\n",
              "      <th>5</th>\n",
              "      <td>150.0</td>\n",
              "      <td>0.902077</td>\n",
              "      <td>0.001430</td>\n",
              "      <td>0.885700</td>\n",
              "      <td>0.008776</td>\n",
              "    </tr>\n",
              "    <tr>\n",
              "      <th>6</th>\n",
              "      <td>1000.0</td>\n",
              "      <td>0.920321</td>\n",
              "      <td>0.001839</td>\n",
              "      <td>0.881848</td>\n",
              "      <td>0.039564</td>\n",
              "    </tr>\n",
              "  </tbody>\n",
              "</table>\n",
              "</div>"
            ],
            "text/plain": [
              "   número de arboles  ...  desviacion estandar prueba\n",
              "0                5.0  ...                    0.007378\n",
              "1               10.0  ...                    0.007378\n",
              "2               20.0  ...                    0.007378\n",
              "3               50.0  ...                    0.007063\n",
              "4              100.0  ...                    0.008094\n",
              "5              150.0  ...                    0.008776\n",
              "6             1000.0  ...                    0.039564\n",
              "\n",
              "[7 rows x 5 columns]"
            ]
          },
          "metadata": {},
          "execution_count": 10
        }
      ]
    }
  ]
}